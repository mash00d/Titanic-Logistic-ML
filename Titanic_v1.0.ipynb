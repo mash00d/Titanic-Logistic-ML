{
 "cells": [
  {
   "cell_type": "markdown",
   "metadata": {},
   "source": [
    "### Step 1: Problem statement\n",
    "\n",
    "In this challenge, the ask it to complete the analysis of what sorts of people were likely to survive. In particular, the ask is to apply the tools of machine learning to predict which passengers survived the tragedy."
   ]
  },
  {
   "cell_type": "markdown",
   "metadata": {},
   "source": [
    "### Step 2: Collecting data\n",
    "\n",
    "In this step we will import required libraries and data from csv files."
   ]
  },
  {
   "cell_type": "code",
   "execution_count": 69,
   "metadata": {},
   "outputs": [],
   "source": [
    "# Suppressing Warnings\n",
    "import warnings\n",
    "warnings.filterwarnings('ignore')\n",
    "\n",
    "# Importing Pandas and NumPy\n",
    "import pandas as pd, numpy as np\n",
    "\n",
    "import matplotlib.pyplot as plt\n",
    "import seaborn as sns \n",
    "%matplotlib inline"
   ]
  },
  {
   "cell_type": "code",
   "execution_count": 70,
   "metadata": {},
   "outputs": [],
   "source": [
    "# Importing all datasets\n",
    "TitanicDataTr = pd.read_csv(\"train.csv\")\n",
    "TitanicDataTs = pd.read_csv(\"test.csv\")"
   ]
  },
  {
   "cell_type": "markdown",
   "metadata": {},
   "source": [
    "### Step 3: Exploratory data analysis\n",
    "\n",
    "In this challenge, the ask it to complete the analysis of what sorts of people were likely to survive. In particular, the ask is to apply the tools of machine learning to predict which passengers survived the tragedy."
   ]
  },
  {
   "cell_type": "code",
   "execution_count": 71,
   "metadata": {},
   "outputs": [
    {
     "data": {
      "text/html": [
       "<div>\n",
       "<style scoped>\n",
       "    .dataframe tbody tr th:only-of-type {\n",
       "        vertical-align: middle;\n",
       "    }\n",
       "\n",
       "    .dataframe tbody tr th {\n",
       "        vertical-align: top;\n",
       "    }\n",
       "\n",
       "    .dataframe thead th {\n",
       "        text-align: right;\n",
       "    }\n",
       "</style>\n",
       "<table border=\"1\" class=\"dataframe\">\n",
       "  <thead>\n",
       "    <tr style=\"text-align: right;\">\n",
       "      <th></th>\n",
       "      <th>PassengerId</th>\n",
       "      <th>Survived</th>\n",
       "      <th>Pclass</th>\n",
       "      <th>Name</th>\n",
       "      <th>Sex</th>\n",
       "      <th>Age</th>\n",
       "      <th>SibSp</th>\n",
       "      <th>Parch</th>\n",
       "      <th>Ticket</th>\n",
       "      <th>Fare</th>\n",
       "      <th>Cabin</th>\n",
       "      <th>Embarked</th>\n",
       "    </tr>\n",
       "  </thead>\n",
       "  <tbody>\n",
       "    <tr>\n",
       "      <th>0</th>\n",
       "      <td>1</td>\n",
       "      <td>0</td>\n",
       "      <td>3</td>\n",
       "      <td>Braund, Mr. Owen Harris</td>\n",
       "      <td>male</td>\n",
       "      <td>22.0</td>\n",
       "      <td>1</td>\n",
       "      <td>0</td>\n",
       "      <td>A/5 21171</td>\n",
       "      <td>7.2500</td>\n",
       "      <td>NaN</td>\n",
       "      <td>S</td>\n",
       "    </tr>\n",
       "    <tr>\n",
       "      <th>1</th>\n",
       "      <td>2</td>\n",
       "      <td>1</td>\n",
       "      <td>1</td>\n",
       "      <td>Cumings, Mrs. John Bradley (Florence Briggs Th...</td>\n",
       "      <td>female</td>\n",
       "      <td>38.0</td>\n",
       "      <td>1</td>\n",
       "      <td>0</td>\n",
       "      <td>PC 17599</td>\n",
       "      <td>71.2833</td>\n",
       "      <td>C85</td>\n",
       "      <td>C</td>\n",
       "    </tr>\n",
       "    <tr>\n",
       "      <th>2</th>\n",
       "      <td>3</td>\n",
       "      <td>1</td>\n",
       "      <td>3</td>\n",
       "      <td>Heikkinen, Miss. Laina</td>\n",
       "      <td>female</td>\n",
       "      <td>26.0</td>\n",
       "      <td>0</td>\n",
       "      <td>0</td>\n",
       "      <td>STON/O2. 3101282</td>\n",
       "      <td>7.9250</td>\n",
       "      <td>NaN</td>\n",
       "      <td>S</td>\n",
       "    </tr>\n",
       "    <tr>\n",
       "      <th>3</th>\n",
       "      <td>4</td>\n",
       "      <td>1</td>\n",
       "      <td>1</td>\n",
       "      <td>Futrelle, Mrs. Jacques Heath (Lily May Peel)</td>\n",
       "      <td>female</td>\n",
       "      <td>35.0</td>\n",
       "      <td>1</td>\n",
       "      <td>0</td>\n",
       "      <td>113803</td>\n",
       "      <td>53.1000</td>\n",
       "      <td>C123</td>\n",
       "      <td>S</td>\n",
       "    </tr>\n",
       "    <tr>\n",
       "      <th>4</th>\n",
       "      <td>5</td>\n",
       "      <td>0</td>\n",
       "      <td>3</td>\n",
       "      <td>Allen, Mr. William Henry</td>\n",
       "      <td>male</td>\n",
       "      <td>35.0</td>\n",
       "      <td>0</td>\n",
       "      <td>0</td>\n",
       "      <td>373450</td>\n",
       "      <td>8.0500</td>\n",
       "      <td>NaN</td>\n",
       "      <td>S</td>\n",
       "    </tr>\n",
       "  </tbody>\n",
       "</table>\n",
       "</div>"
      ],
      "text/plain": [
       "   PassengerId  Survived  Pclass  \\\n",
       "0            1         0       3   \n",
       "1            2         1       1   \n",
       "2            3         1       3   \n",
       "3            4         1       1   \n",
       "4            5         0       3   \n",
       "\n",
       "                                                Name     Sex   Age  SibSp  \\\n",
       "0                            Braund, Mr. Owen Harris    male  22.0      1   \n",
       "1  Cumings, Mrs. John Bradley (Florence Briggs Th...  female  38.0      1   \n",
       "2                             Heikkinen, Miss. Laina  female  26.0      0   \n",
       "3       Futrelle, Mrs. Jacques Heath (Lily May Peel)  female  35.0      1   \n",
       "4                           Allen, Mr. William Henry    male  35.0      0   \n",
       "\n",
       "   Parch            Ticket     Fare Cabin Embarked  \n",
       "0      0         A/5 21171   7.2500   NaN        S  \n",
       "1      0          PC 17599  71.2833   C85        C  \n",
       "2      0  STON/O2. 3101282   7.9250   NaN        S  \n",
       "3      0            113803  53.1000  C123        S  \n",
       "4      0            373450   8.0500   NaN        S  "
      ]
     },
     "execution_count": 71,
     "metadata": {},
     "output_type": "execute_result"
    }
   ],
   "source": [
    "TitanicDataTr.head()"
   ]
  },
  {
   "cell_type": "markdown",
   "metadata": {},
   "source": [
    "| Variable | Definition | Key |\n",
    "| --- | --- | --- |\n",
    "| pclass | Ticket class | 1 = 1st, 2 = 2nd, 3 = 3rd |\n",
    "| survival | Survival | 0 = No, 1 = Yes |\n",
    "| sex | Sex | Male/Female |\n",
    "| Age | Age in years |  |\n",
    "| sibsp | # of siblings / spouses aboard the Titanic |  |\n",
    "| parch | # of parents / children aboard the Titanic |  |\n",
    "| ticket | Ticket number |  |\n",
    "| fare | Passenger fare |  |\n",
    "| cabin | Cabin number |  |\n",
    "| embarked | Port of Embarkation | C = Cherbourg, Q = Queenstown, S = Southampton |\t"
   ]
  },
  {
   "cell_type": "code",
   "execution_count": 72,
   "metadata": {},
   "outputs": [],
   "source": [
    "# we will concatenate the data for easier null treatment and better dummy variable creation\n",
    "TitanicData=pd.concat([TitanicDataTr, TitanicDataTs], ignore_index=True)"
   ]
  },
  {
   "cell_type": "code",
   "execution_count": 73,
   "metadata": {},
   "outputs": [],
   "source": [
    "# Extracting the Title from Name.\n",
    "\n",
    "TitanicData[\"Title\"]=(TitanicData[\"Name\"].str.split(\",\", n = 1, expand = True))[1].str.split(\".\", n = 1, expand = True)[0]\n",
    "TitanicData[\"Title\"]=TitanicData[\"Title\"].str.strip()"
   ]
  },
  {
   "cell_type": "code",
   "execution_count": 74,
   "metadata": {},
   "outputs": [],
   "source": [
    "# Categorizing titles.\n",
    "TitanicData[\"Title\"]=TitanicData[\"Title\"].apply(lambda x: 'Mr' if x=='Mr' else ('Miss' if x=='Miss' else \n",
    "                                                           ('Mrs' if x=='Mrs' else 'Others')))"
   ]
  },
  {
   "cell_type": "code",
   "execution_count": 75,
   "metadata": {},
   "outputs": [
    {
     "data": {
      "text/plain": [
       "<matplotlib.axes._subplots.AxesSubplot at 0x4b99810>"
      ]
     },
     "execution_count": 75,
     "metadata": {},
     "output_type": "execute_result"
    },
    {
     "data": {
      "image/png": "[encoded data removed]",
      "text/plain": [
       "<Figure size 1440x864 with 6 Axes>"
      ]
     },
     "metadata": {
      "needs_background": "light"
     },
     "output_type": "display_data"
    }
   ],
   "source": [
    "# Create Multiple charts to find the relationship between predictive feature with independent features.\n",
    "plt.figure (figsize=(20,12))\n",
    "plt.subplot(331)\n",
    "sns.countplot (x='Survived', hue='SibSp',data=TitanicDataTr)\n",
    "\n",
    "plt.subplot(332)\n",
    "sns.countplot (x='Survived', hue='Pclass',data=TitanicDataTr)\n",
    "\n",
    "plt.subplot(333)\n",
    "sns.countplot (x='Survived', hue='Sex',data=TitanicDataTr)\n",
    "\n",
    "plt.subplot(334)\n",
    "sns.countplot (x='Survived', hue='Parch',data=TitanicDataTr)\n",
    "\n",
    "plt.subplot(335)\n",
    "sns.countplot (x='Survived', hue='Embarked',data=TitanicDataTr)\n",
    "\n",
    "plt.subplot(336)\n",
    "sns.countplot (x='Survived', hue='Title',data=TitanicData)"
   ]
  },
  {
   "cell_type": "code",
   "execution_count": 76,
   "metadata": {},
   "outputs": [],
   "source": [
    "# Filling Missing values in age based on title.\n",
    "TitanicData.Title = TitanicData.Title.str.replace(' ', '')\n",
    "TitanicData['Age_Imputed']=TitanicData.groupby(['Title'])['Age']\\\n",
    "    .transform(lambda x: x.fillna(round(x.median(),2)))\n",
    "\n",
    "TitanicData['Age']=TitanicData['Age_Imputed']\n",
    "TitanicData.drop(['Age_Imputed'],axis=1,inplace=True)\n",
    "\n",
    "TitanicDataTrain=TitanicData[~TitanicData.Survived.isnull()]\n",
    "TitanicDataTest=TitanicData[TitanicData.Survived.isnull()]"
   ]
  },
  {
   "cell_type": "code",
   "execution_count": 77,
   "metadata": {},
   "outputs": [
    {
     "data": {
      "text/plain": [
       "<seaborn.axisgrid.FacetGrid at 0x12375610>"
      ]
     },
     "execution_count": 77,
     "metadata": {},
     "output_type": "execute_result"
    },
    {
     "data": {
      "image/png": "[encoded data removed]",
      "text/plain": [
       "<Figure size 915.875x216 with 1 Axes>"
      ]
     },
     "metadata": {
      "needs_background": "light"
     },
     "output_type": "display_data"
    }
   ],
   "source": [
    "# Check the change probability of survived with respect to age.\n",
    "Facet= sns.FacetGrid(TitanicDataTrain,hue=\"Survived\", aspect=4)\n",
    "Facet.map(sns.kdeplot,'Age',shade=True)\n",
    "Facet.set(xlim=(0,TitanicDataTrain['Age'].max()))\n",
    "Facet.add_legend()"
   ]
  },
  {
   "cell_type": "code",
   "execution_count": 78,
   "metadata": {},
   "outputs": [],
   "source": [
    "# Fucntion to create bins.\n",
    "def Assign_Bins(Value,Complete_list):\n",
    "    for i in range (0,len(Complete_list)-1):\n",
    "        if (Value > Complete_list[i] and Value <= Complete_list[i+1]):\n",
    "            return i\n",
    "\n",
    "def Create_Bins(df_in,column, bin_list):\n",
    "    InitialValue = [-1 if 0 < df_in[column].min() else df_in[column].min()-1]\n",
    "    bin_list.sort()\n",
    "    LastValue = [bin_list[len(bin_list)-1]+1 if bin_list[len(bin_list)-1] > df_in[column].max() else df_in[column].max()+1]\n",
    "    CompleteList= InitialValue + bin_list + LastValue\n",
    "    df_in[column]=df_in[column].apply(lambda x : Assign_Bins(x,CompleteList))        \n",
    "    return df_in\n",
    "    \n",
    "bin_list =[16,26,36,44,48,59]\n",
    "TitanicData = Create_Bins(TitanicData,\"Age\",bin_list)"
   ]
  },
  {
   "cell_type": "code",
   "execution_count": 79,
   "metadata": {},
   "outputs": [
    {
     "data": {
      "text/plain": [
       "<matplotlib.axes._subplots.AxesSubplot at 0x4b2e790>"
      ]
     },
     "execution_count": 79,
     "metadata": {},
     "output_type": "execute_result"
    },
    {
     "data": {
      "image/png": "[encoded data removed]",
      "text/plain": [
       "<Figure size 432x288 with 1 Axes>"
      ]
     },
     "metadata": {
      "needs_background": "light"
     },
     "output_type": "display_data"
    }
   ],
   "source": [
    "# check how the binned age looks with respect to predictive feature.\n",
    "TitanicDataTrain=TitanicData[~TitanicData.Survived.isnull()]\n",
    "TitanicDataTest=TitanicData[TitanicData.Survived.isnull()]\n",
    "\n",
    "sns.countplot (x='Survived', hue='Age',data=TitanicData)"
   ]
  },
  {
   "cell_type": "code",
   "execution_count": 80,
   "metadata": {},
   "outputs": [],
   "source": [
    "# Fill Embarked missing value with most used value.\n",
    "TitanicData['Embarked'].fillna(TitanicData['Embarked'].value_counts().index[0],inplace=True)"
   ]
  },
  {
   "cell_type": "code",
   "execution_count": 81,
   "metadata": {},
   "outputs": [],
   "source": [
    "# Fill Fare based on class. As it makes sense that fare is depened on class.\n",
    "TitanicData['Fare'].fillna(TitanicData.groupby(\"Pclass\")['Fare'].transform(\"median\"),inplace=True)"
   ]
  },
  {
   "cell_type": "code",
   "execution_count": 82,
   "metadata": {},
   "outputs": [
    {
     "data": {
      "text/plain": [
       "<seaborn.axisgrid.FacetGrid at 0x1607a730>"
      ]
     },
     "execution_count": 82,
     "metadata": {},
     "output_type": "execute_result"
    },
    {
     "data": {
      "image/png": "[encoded data removed]",
      "text/plain": [
       "<Figure size 915.875x216 with 1 Axes>"
      ]
     },
     "metadata": {
      "needs_background": "light"
     },
     "output_type": "display_data"
    }
   ],
   "source": [
    "# Relationship between fare and survived feature\n",
    "Facet= sns.FacetGrid(TitanicDataTrain,hue=\"Survived\", aspect=4)\n",
    "Facet.map(sns.kdeplot,'Fare',shade=True)\n",
    "Facet.set(xlim=(0,TitanicDataTrain['Fare'].max()))\n",
    "Facet.add_legend()"
   ]
  },
  {
   "cell_type": "code",
   "execution_count": 83,
   "metadata": {},
   "outputs": [],
   "source": [
    "# Create bins for fare.\n",
    "bin_list =[17,28,100]\n",
    "TitanicData = Create_Bins(TitanicData,\"Fare\",bin_list)"
   ]
  },
  {
   "cell_type": "code",
   "execution_count": 84,
   "metadata": {},
   "outputs": [],
   "source": [
    "# Take first character of Cabin to fill missing values\n",
    "TitanicData[\"Cabin\"]=TitanicData[\"Cabin\"].str[0]\n",
    "\n",
    "CatList=TitanicData[\"Cabin\"].unique().tolist()\n",
    "CatList=[x for x in CatList if str(x) != 'nan']\n",
    "CatList.sort()\n",
    "CatMap={k: v for v, k in enumerate(CatList)}\n",
    "TitanicData[\"Cabin\"]=TitanicData[\"Cabin\"].map(CatMap)"
   ]
  },
  {
   "cell_type": "code",
   "execution_count": 85,
   "metadata": {},
   "outputs": [],
   "source": [
    "# It makes sense that cabin may depeneds on class.\n",
    "TitanicData[\"Cabin\"].fillna(TitanicData.groupby(\"Pclass\")[\"Cabin\"].transform(\"median\"), inplace=True)\n",
    "TitanicData.Cabin = TitanicData.Cabin.astype(int)\n",
    "\n",
    "TitanicDataTrain=TitanicData[~TitanicData.Survived.isnull()]\n",
    "TitanicDataTest=TitanicData[TitanicData.Survived.isnull()]"
   ]
  },
  {
   "cell_type": "code",
   "execution_count": 86,
   "metadata": {},
   "outputs": [
    {
     "data": {
      "text/plain": [
       "<seaborn.axisgrid.FacetGrid at 0x160b0a30>"
      ]
     },
     "execution_count": 86,
     "metadata": {},
     "output_type": "execute_result"
    },
    {
     "data": {
      "image/png": "[encoded data removed]",
      "text/plain": [
       "<Figure size 915.875x216 with 1 Axes>"
      ]
     },
     "metadata": {
      "needs_background": "light"
     },
     "output_type": "display_data"
    }
   ],
   "source": [
    "# Change in Survived varibale with respect to number of parent child\n",
    "Facet= sns.FacetGrid(TitanicDataTrain,hue=\"Survived\", aspect=4)\n",
    "Facet.map(sns.kdeplot,'Parch',shade=True)\n",
    "Facet.set(xlim=(0,TitanicDataTrain['Parch'].max()))\n",
    "Facet.add_legend()"
   ]
  },
  {
   "cell_type": "code",
   "execution_count": 87,
   "metadata": {},
   "outputs": [
    {
     "data": {
      "text/plain": [
       "<seaborn.axisgrid.FacetGrid at 0x1619dd50>"
      ]
     },
     "execution_count": 87,
     "metadata": {},
     "output_type": "execute_result"
    },
    {
     "data": {
      "image/png": "[encoded data removed]",
      "text/plain": [
       "<Figure size 915.875x216 with 1 Axes>"
      ]
     },
     "metadata": {
      "needs_background": "light"
     },
     "output_type": "display_data"
    }
   ],
   "source": [
    "# Change in Survived varibale with respect to number of Sibling spouse.\n",
    "Facet= sns.FacetGrid(TitanicDataTrain,hue=\"Survived\", aspect=4)\n",
    "Facet.map(sns.kdeplot,'SibSp',shade=True)\n",
    "Facet.set(xlim=(0,TitanicDataTrain['SibSp'].max()))\n",
    "Facet.add_legend()"
   ]
  },
  {
   "cell_type": "code",
   "execution_count": 88,
   "metadata": {},
   "outputs": [],
   "source": [
    "# perfomring one hot encoding.\n",
    "TitanicData['Parch']=TitanicData['Parch'].apply(lambda x: 0 if x==0 else 1)\n",
    "TitanicData['SibSp']=TitanicData['SibSp'].apply(lambda x: 0 if x<=2 else 1)"
   ]
  },
  {
   "cell_type": "code",
   "execution_count": 89,
   "metadata": {},
   "outputs": [],
   "source": [
    "# Drop name and ticket as they are of no use.\n",
    "TitanicData.drop(['Name','Ticket'],axis=1,inplace=True)"
   ]
  },
  {
   "cell_type": "code",
   "execution_count": 90,
   "metadata": {},
   "outputs": [],
   "source": [
    "# perfomring one hot encoding.\n",
    "gender = {'male': 0,'female': 1} \n",
    "TitanicData[\"Sex\"]=TitanicData[\"Sex\"].map(gender)"
   ]
  },
  {
   "cell_type": "code",
   "execution_count": 91,
   "metadata": {},
   "outputs": [],
   "source": [
    "# Assigning numerical values to feature\n",
    "CatList=TitanicData[\"Title\"].unique().tolist()\n",
    "CatList=[x for x in CatList if str(x) != 'nan']\n",
    "CatList.sort()\n",
    "CatMap={k: v for v, k in enumerate(CatList)}\n",
    "TitanicData[\"Title\"]=TitanicData[\"Title\"].map(CatMap)"
   ]
  },
  {
   "cell_type": "code",
   "execution_count": 92,
   "metadata": {},
   "outputs": [],
   "source": [
    "# Assigning numerical values to feature\n",
    "CatList=TitanicData[\"Embarked\"].unique().tolist()\n",
    "CatList=[x for x in CatList if str(x) != 'nan']\n",
    "CatList.sort()\n",
    "CatMap={k: v for v, k in enumerate(CatList)}\n",
    "TitanicData[\"Embarked\"]=TitanicData[\"Embarked\"].map(CatMap)"
   ]
  },
  {
   "cell_type": "code",
   "execution_count": 93,
   "metadata": {},
   "outputs": [],
   "source": [
    "TitanicData.set_index('PassengerId',inplace=True)"
   ]
  },
  {
   "cell_type": "code",
   "execution_count": 95,
   "metadata": {},
   "outputs": [],
   "source": [
    "TitanicDataTest=TitanicData[TitanicData.Survived.isnull()]\n",
    "TitanicDataTrain=TitanicData[~TitanicData.Survived.isnull()]"
   ]
  },
  {
   "cell_type": "code",
   "execution_count": 96,
   "metadata": {},
   "outputs": [
    {
     "data": {
      "image/png": "[encoded data removed]",
      "text/plain": [
       "<Figure size 1440x720 with 2 Axes>"
      ]
     },
     "metadata": {
      "needs_background": "light"
     },
     "output_type": "display_data"
    }
   ],
   "source": [
    "# we will plot a heatmap to look at the corelation in numerical form.\n",
    "plt.figure(figsize=(20,10))\n",
    "sns.heatmap(TitanicDataTrain.corr(),annot=True, cmap='YlGnBu')\n",
    "plt.show()"
   ]
  },
  {
   "cell_type": "code",
   "execution_count": 97,
   "metadata": {},
   "outputs": [],
   "source": [
    "# Dividing data for modelling\n",
    "y_train=TitanicDataTrain['Survived']\n",
    "X_train=TitanicDataTrain[list(TitanicDataTrain.columns[~(TitanicDataTrain.columns == 'Survived')])]"
   ]
  },
  {
   "cell_type": "code",
   "execution_count": 98,
   "metadata": {},
   "outputs": [],
   "source": [
    "# perfoming standard scaling.\n",
    "from sklearn.preprocessing import StandardScaler\n",
    "scaler = StandardScaler()\n",
    "ColumnListScale= ['Age','Cabin','Embarked','Fare','Pclass','Title']\n",
    "X_train[ColumnListScale] = scaler.fit_transform(X_train[ColumnListScale])"
   ]
  },
  {
   "cell_type": "code",
   "execution_count": 99,
   "metadata": {},
   "outputs": [],
   "source": [
    "# importing statsmodel api for better summary analysis.\n",
    "import statsmodels.api as sm"
   ]
  },
  {
   "cell_type": "code",
   "execution_count": 100,
   "metadata": {},
   "outputs": [
    {
     "data": {
      "text/html": [
       "<table class=\"simpletable\">\n",
       "<caption>Generalized Linear Model Regression Results</caption>\n",
       "<tr>\n",
       "  <th>Dep. Variable:</th>      <td>Survived</td>     <th>  No. Observations:  </th>  <td>   891</td>  \n",
       "</tr>\n",
       "<tr>\n",
       "  <th>Model:</th>                 <td>GLM</td>       <th>  Df Residuals:      </th>  <td>   881</td>  \n",
       "</tr>\n",
       "<tr>\n",
       "  <th>Model Family:</th>       <td>Binomial</td>     <th>  Df Model:          </th>  <td>     9</td>  \n",
       "</tr>\n",
       "<tr>\n",
       "  <th>Link Function:</th>        <td>logit</td>      <th>  Scale:             </th> <td>  1.0000</td> \n",
       "</tr>\n",
       "<tr>\n",
       "  <th>Method:</th>               <td>IRLS</td>       <th>  Log-Likelihood:    </th> <td> -379.47</td> \n",
       "</tr>\n",
       "<tr>\n",
       "  <th>Date:</th>           <td>Sun, 12 May 2019</td> <th>  Deviance:          </th> <td>  758.93</td> \n",
       "</tr>\n",
       "<tr>\n",
       "  <th>Time:</th>               <td>08:36:20</td>     <th>  Pearson chi2:      </th>  <td>  930.</td>  \n",
       "</tr>\n",
       "<tr>\n",
       "  <th>No. Iterations:</th>         <td>5</td>        <th>  Covariance Type:   </th> <td>nonrobust</td>\n",
       "</tr>\n",
       "</table>\n",
       "<table class=\"simpletable\">\n",
       "<tr>\n",
       "      <td></td>        <th>coef</th>     <th>std err</th>      <th>z</th>      <th>P>|z|</th>  <th>[0.025</th>    <th>0.975]</th>  \n",
       "</tr>\n",
       "<tr>\n",
       "  <th>const</th>    <td>   -1.5596</td> <td>    0.134</td> <td>  -11.625</td> <td> 0.000</td> <td>   -1.823</td> <td>   -1.297</td>\n",
       "</tr>\n",
       "<tr>\n",
       "  <th>Age</th>      <td>   -0.5730</td> <td>    0.109</td> <td>   -5.261</td> <td> 0.000</td> <td>   -0.786</td> <td>   -0.360</td>\n",
       "</tr>\n",
       "<tr>\n",
       "  <th>Cabin</th>    <td>    0.0367</td> <td>    0.157</td> <td>    0.234</td> <td> 0.815</td> <td>   -0.271</td> <td>    0.344</td>\n",
       "</tr>\n",
       "<tr>\n",
       "  <th>Embarked</th> <td>   -0.1802</td> <td>    0.094</td> <td>   -1.908</td> <td> 0.056</td> <td>   -0.365</td> <td>    0.005</td>\n",
       "</tr>\n",
       "<tr>\n",
       "  <th>Fare</th>     <td>    0.0460</td> <td>    0.156</td> <td>    0.295</td> <td> 0.768</td> <td>   -0.259</td> <td>    0.351</td>\n",
       "</tr>\n",
       "<tr>\n",
       "  <th>Parch</th>    <td>   -0.1400</td> <td>    0.270</td> <td>   -0.519</td> <td> 0.604</td> <td>   -0.669</td> <td>    0.389</td>\n",
       "</tr>\n",
       "<tr>\n",
       "  <th>Pclass</th>   <td>   -0.9310</td> <td>    0.179</td> <td>   -5.188</td> <td> 0.000</td> <td>   -1.283</td> <td>   -0.579</td>\n",
       "</tr>\n",
       "<tr>\n",
       "  <th>Sex</th>      <td>    2.9596</td> <td>    0.220</td> <td>   13.457</td> <td> 0.000</td> <td>    2.529</td> <td>    3.391</td>\n",
       "</tr>\n",
       "<tr>\n",
       "  <th>SibSp</th>    <td>   -1.8929</td> <td>    0.509</td> <td>   -3.719</td> <td> 0.000</td> <td>   -2.890</td> <td>   -0.895</td>\n",
       "</tr>\n",
       "<tr>\n",
       "  <th>Title</th>    <td>    0.4670</td> <td>    0.099</td> <td>    4.697</td> <td> 0.000</td> <td>    0.272</td> <td>    0.662</td>\n",
       "</tr>\n",
       "</table>"
      ],
      "text/plain": [
       "<class 'statsmodels.iolib.summary.Summary'>\n",
       "\"\"\"\n",
       "                 Generalized Linear Model Regression Results                  \n",
       "==============================================================================\n",
       "Dep. Variable:               Survived   No. Observations:                  891\n",
       "Model:                            GLM   Df Residuals:                      881\n",
       "Model Family:                Binomial   Df Model:                            9\n",
       "Link Function:                  logit   Scale:                          1.0000\n",
       "Method:                          IRLS   Log-Likelihood:                -379.47\n",
       "Date:                Sun, 12 May 2019   Deviance:                       758.93\n",
       "Time:                        08:36:20   Pearson chi2:                     930.\n",
       "No. Iterations:                     5   Covariance Type:             nonrobust\n",
       "==============================================================================\n",
       "                 coef    std err          z      P>|z|      [0.025      0.975]\n",
       "------------------------------------------------------------------------------\n",
       "const         -1.5596      0.134    -11.625      0.000      -1.823      -1.297\n",
       "Age           -0.5730      0.109     -5.261      0.000      -0.786      -0.360\n",
       "Cabin          0.0367      0.157      0.234      0.815      -0.271       0.344\n",
       "Embarked      -0.1802      0.094     -1.908      0.056      -0.365       0.005\n",
       "Fare           0.0460      0.156      0.295      0.768      -0.259       0.351\n",
       "Parch         -0.1400      0.270     -0.519      0.604      -0.669       0.389\n",
       "Pclass        -0.9310      0.179     -5.188      0.000      -1.283      -0.579\n",
       "Sex            2.9596      0.220     13.457      0.000       2.529       3.391\n",
       "SibSp         -1.8929      0.509     -3.719      0.000      -2.890      -0.895\n",
       "Title          0.4670      0.099      4.697      0.000       0.272       0.662\n",
       "==============================================================================\n",
       "\"\"\""
      ]
     },
     "execution_count": 100,
     "metadata": {},
     "output_type": "execute_result"
    }
   ],
   "source": [
    "logm1 = sm.GLM(y_train,(sm.add_constant(X_train)), family = sm.families.Binomial())\n",
    "logm1.fit().summary()"
   ]
  },
  {
   "cell_type": "code",
   "execution_count": 101,
   "metadata": {},
   "outputs": [
    {
     "data": {
      "text/html": [
       "<div>\n",
       "<style scoped>\n",
       "    .dataframe tbody tr th:only-of-type {\n",
       "        vertical-align: middle;\n",
       "    }\n",
       "\n",
       "    .dataframe tbody tr th {\n",
       "        vertical-align: top;\n",
       "    }\n",
       "\n",
       "    .dataframe thead th {\n",
       "        text-align: right;\n",
       "    }\n",
       "</style>\n",
       "<table border=\"1\" class=\"dataframe\">\n",
       "  <thead>\n",
       "    <tr style=\"text-align: right;\">\n",
       "      <th></th>\n",
       "      <th>Features</th>\n",
       "      <th>VIF</th>\n",
       "    </tr>\n",
       "  </thead>\n",
       "  <tbody>\n",
       "    <tr>\n",
       "      <th>5</th>\n",
       "      <td>Pclass</td>\n",
       "      <td>4.12</td>\n",
       "    </tr>\n",
       "    <tr>\n",
       "      <th>1</th>\n",
       "      <td>Cabin</td>\n",
       "      <td>3.40</td>\n",
       "    </tr>\n",
       "    <tr>\n",
       "      <th>3</th>\n",
       "      <td>Fare</td>\n",
       "      <td>2.97</td>\n",
       "    </tr>\n",
       "    <tr>\n",
       "      <th>4</th>\n",
       "      <td>Parch</td>\n",
       "      <td>1.86</td>\n",
       "    </tr>\n",
       "    <tr>\n",
       "      <th>7</th>\n",
       "      <td>SibSp</td>\n",
       "      <td>1.47</td>\n",
       "    </tr>\n",
       "    <tr>\n",
       "      <th>6</th>\n",
       "      <td>Sex</td>\n",
       "      <td>1.43</td>\n",
       "    </tr>\n",
       "    <tr>\n",
       "      <th>0</th>\n",
       "      <td>Age</td>\n",
       "      <td>1.25</td>\n",
       "    </tr>\n",
       "    <tr>\n",
       "      <th>8</th>\n",
       "      <td>Title</td>\n",
       "      <td>1.16</td>\n",
       "    </tr>\n",
       "    <tr>\n",
       "      <th>2</th>\n",
       "      <td>Embarked</td>\n",
       "      <td>1.12</td>\n",
       "    </tr>\n",
       "  </tbody>\n",
       "</table>\n",
       "</div>"
      ],
      "text/plain": [
       "   Features   VIF\n",
       "5    Pclass  4.12\n",
       "1     Cabin  3.40\n",
       "3      Fare  2.97\n",
       "4     Parch  1.86\n",
       "7     SibSp  1.47\n",
       "6       Sex  1.43\n",
       "0       Age  1.25\n",
       "8     Title  1.16\n",
       "2  Embarked  1.12"
      ]
     },
     "execution_count": 101,
     "metadata": {},
     "output_type": "execute_result"
    }
   ],
   "source": [
    "# Check for the VIF values of the feature variables. \n",
    "from statsmodels.stats.outliers_influence import variance_inflation_factor\n",
    "\n",
    "# Create a dataframe that will contain the names of all the feature variables and their respective VIFs\n",
    "vif = pd.DataFrame()\n",
    "vif['Features'] = X_train.columns\n",
    "vif['VIF'] = [variance_inflation_factor(X_train.values, i) for i in range(X_train.shape[1])]\n",
    "vif['VIF'] = round(vif['VIF'], 2)\n",
    "vif = vif.sort_values(by = \"VIF\", ascending = False)\n",
    "vif"
   ]
  },
  {
   "cell_type": "code",
   "execution_count": 102,
   "metadata": {},
   "outputs": [
    {
     "data": {
      "text/html": [
       "<table class=\"simpletable\">\n",
       "<caption>Generalized Linear Model Regression Results</caption>\n",
       "<tr>\n",
       "  <th>Dep. Variable:</th>      <td>Survived</td>     <th>  No. Observations:  </th>  <td>   891</td>  \n",
       "</tr>\n",
       "<tr>\n",
       "  <th>Model:</th>                 <td>GLM</td>       <th>  Df Residuals:      </th>  <td>   884</td>  \n",
       "</tr>\n",
       "<tr>\n",
       "  <th>Model Family:</th>       <td>Binomial</td>     <th>  Df Model:          </th>  <td>     6</td>  \n",
       "</tr>\n",
       "<tr>\n",
       "  <th>Link Function:</th>        <td>logit</td>      <th>  Scale:             </th> <td>  1.0000</td> \n",
       "</tr>\n",
       "<tr>\n",
       "  <th>Method:</th>               <td>IRLS</td>       <th>  Log-Likelihood:    </th> <td> -379.62</td> \n",
       "</tr>\n",
       "<tr>\n",
       "  <th>Date:</th>           <td>Sun, 12 May 2019</td> <th>  Deviance:          </th> <td>  759.23</td> \n",
       "</tr>\n",
       "<tr>\n",
       "  <th>Time:</th>               <td>08:36:20</td>     <th>  Pearson chi2:      </th>  <td>  934.</td>  \n",
       "</tr>\n",
       "<tr>\n",
       "  <th>No. Iterations:</th>         <td>5</td>        <th>  Covariance Type:   </th> <td>nonrobust</td>\n",
       "</tr>\n",
       "</table>\n",
       "<table class=\"simpletable\">\n",
       "<tr>\n",
       "      <td></td>        <th>coef</th>     <th>std err</th>      <th>z</th>      <th>P>|z|</th>  <th>[0.025</th>    <th>0.975]</th>  \n",
       "</tr>\n",
       "<tr>\n",
       "  <th>const</th>    <td>    1.4824</td> <td>    0.407</td> <td>    3.645</td> <td> 0.000</td> <td>    0.685</td> <td>    2.280</td>\n",
       "</tr>\n",
       "<tr>\n",
       "  <th>Age</th>      <td>   -0.3969</td> <td>    0.075</td> <td>   -5.323</td> <td> 0.000</td> <td>   -0.543</td> <td>   -0.251</td>\n",
       "</tr>\n",
       "<tr>\n",
       "  <th>Embarked</th> <td>   -0.2235</td> <td>    0.115</td> <td>   -1.946</td> <td> 0.052</td> <td>   -0.449</td> <td>    0.002</td>\n",
       "</tr>\n",
       "<tr>\n",
       "  <th>Pclass</th>   <td>   -1.1113</td> <td>    0.126</td> <td>   -8.826</td> <td> 0.000</td> <td>   -1.358</td> <td>   -0.864</td>\n",
       "</tr>\n",
       "<tr>\n",
       "  <th>Sex</th>      <td>    2.9332</td> <td>    0.208</td> <td>   14.097</td> <td> 0.000</td> <td>    2.525</td> <td>    3.341</td>\n",
       "</tr>\n",
       "<tr>\n",
       "  <th>SibSp</th>    <td>   -1.9199</td> <td>    0.471</td> <td>   -4.076</td> <td> 0.000</td> <td>   -2.843</td> <td>   -0.997</td>\n",
       "</tr>\n",
       "<tr>\n",
       "  <th>Title</th>    <td>    0.5648</td> <td>    0.116</td> <td>    4.884</td> <td> 0.000</td> <td>    0.338</td> <td>    0.791</td>\n",
       "</tr>\n",
       "</table>"
      ],
      "text/plain": [
       "<class 'statsmodels.iolib.summary.Summary'>\n",
       "\"\"\"\n",
       "                 Generalized Linear Model Regression Results                  \n",
       "==============================================================================\n",
       "Dep. Variable:               Survived   No. Observations:                  891\n",
       "Model:                            GLM   Df Residuals:                      884\n",
       "Model Family:                Binomial   Df Model:                            6\n",
       "Link Function:                  logit   Scale:                          1.0000\n",
       "Method:                          IRLS   Log-Likelihood:                -379.62\n",
       "Date:                Sun, 12 May 2019   Deviance:                       759.23\n",
       "Time:                        08:36:20   Pearson chi2:                     934.\n",
       "No. Iterations:                     5   Covariance Type:             nonrobust\n",
       "==============================================================================\n",
       "                 coef    std err          z      P>|z|      [0.025      0.975]\n",
       "------------------------------------------------------------------------------\n",
       "const          1.4824      0.407      3.645      0.000       0.685       2.280\n",
       "Age           -0.3969      0.075     -5.323      0.000      -0.543      -0.251\n",
       "Embarked      -0.2235      0.115     -1.946      0.052      -0.449       0.002\n",
       "Pclass        -1.1113      0.126     -8.826      0.000      -1.358      -0.864\n",
       "Sex            2.9332      0.208     14.097      0.000       2.525       3.341\n",
       "SibSp         -1.9199      0.471     -4.076      0.000      -2.843      -0.997\n",
       "Title          0.5648      0.116      4.884      0.000       0.338       0.791\n",
       "==============================================================================\n",
       "\"\"\""
      ]
     },
     "execution_count": 102,
     "metadata": {},
     "output_type": "execute_result"
    }
   ],
   "source": [
    "# We will consider only columns with less Varience and p values less than 0.05.\n",
    "y_train=TitanicDataTrain['Survived']\n",
    "X_train=TitanicDataTrain[list(TitanicDataTrain.columns[(TitanicDataTrain.columns != 'Cabin') & \n",
    "                                                         (TitanicDataTrain.columns != 'Fare') &\n",
    "                                                        (TitanicDataTrain.columns != 'Parch') &\n",
    "                                                      (TitanicDataTrain.columns != 'Survived')])]\n",
    "X_train_c=sm.add_constant(X_train)\n",
    "logm1 = sm.GLM(y_train,X_train_c, family = sm.families.Binomial())\n",
    "res=logm1.fit()\n",
    "res.summary()"
   ]
  },
  {
   "cell_type": "code",
   "execution_count": 103,
   "metadata": {},
   "outputs": [],
   "source": [
    "# Perfom the prediction on train data.\n",
    "y_train_pred = res.predict(X_train_c)\n",
    "y_train_pred = y_train_pred.values.reshape(-1)\n",
    "y_train_pred_final = pd.DataFrame({'Survived':y_train.values, 'Survived_Prob':y_train_pred})\n",
    "y_train_pred_final['PassengerId'] = y_train.index"
   ]
  },
  {
   "cell_type": "code",
   "execution_count": 106,
   "metadata": {},
   "outputs": [
    {
     "data": {
      "text/html": [
       "<div>\n",
       "<style scoped>\n",
       "    .dataframe tbody tr th:only-of-type {\n",
       "        vertical-align: middle;\n",
       "    }\n",
       "\n",
       "    .dataframe tbody tr th {\n",
       "        vertical-align: top;\n",
       "    }\n",
       "\n",
       "    .dataframe thead th {\n",
       "        text-align: right;\n",
       "    }\n",
       "</style>\n",
       "<table border=\"1\" class=\"dataframe\">\n",
       "  <thead>\n",
       "    <tr style=\"text-align: right;\">\n",
       "      <th></th>\n",
       "      <th>Survived</th>\n",
       "      <th>Survived_Prob</th>\n",
       "      <th>PassengerId</th>\n",
       "      <th>predicted</th>\n",
       "    </tr>\n",
       "  </thead>\n",
       "  <tbody>\n",
       "    <tr>\n",
       "      <th>0</th>\n",
       "      <td>0.0</td>\n",
       "      <td>0.106162</td>\n",
       "      <td>1</td>\n",
       "      <td>0</td>\n",
       "    </tr>\n",
       "    <tr>\n",
       "      <th>1</th>\n",
       "      <td>1.0</td>\n",
       "      <td>0.962428</td>\n",
       "      <td>2</td>\n",
       "      <td>1</td>\n",
       "    </tr>\n",
       "    <tr>\n",
       "      <th>2</th>\n",
       "      <td>1.0</td>\n",
       "      <td>0.559179</td>\n",
       "      <td>3</td>\n",
       "      <td>1</td>\n",
       "    </tr>\n",
       "    <tr>\n",
       "      <th>3</th>\n",
       "      <td>1.0</td>\n",
       "      <td>0.960572</td>\n",
       "      <td>4</td>\n",
       "      <td>1</td>\n",
       "    </tr>\n",
       "    <tr>\n",
       "      <th>4</th>\n",
       "      <td>0.0</td>\n",
       "      <td>0.073952</td>\n",
       "      <td>5</td>\n",
       "      <td>0</td>\n",
       "    </tr>\n",
       "  </tbody>\n",
       "</table>\n",
       "</div>"
      ],
      "text/plain": [
       "   Survived  Survived_Prob  PassengerId  predicted\n",
       "0       0.0       0.106162            1          0\n",
       "1       1.0       0.962428            2          1\n",
       "2       1.0       0.559179            3          1\n",
       "3       1.0       0.960572            4          1\n",
       "4       0.0       0.073952            5          0"
      ]
     },
     "execution_count": 106,
     "metadata": {},
     "output_type": "execute_result"
    }
   ],
   "source": [
    "# Setting the cutoff to 0.5 probablity for survived or not.\n",
    "y_train_pred_final['predicted'] = y_train_pred_final.Survived_Prob.map(lambda x: 1 if x > 0.5 else 0)\n",
    "\n",
    "# Let's see the head\n",
    "y_train_pred_final.head()"
   ]
  },
  {
   "cell_type": "code",
   "execution_count": 107,
   "metadata": {
    "scrolled": true
   },
   "outputs": [
    {
     "name": "stdout",
     "output_type": "stream",
     "text": [
      "[[468  81]\n",
      " [ 92 250]]\n"
     ]
    }
   ],
   "source": [
    "# Building confusion matix.\n",
    "from sklearn import metrics\n",
    "\n",
    "# Confusion matrix \n",
    "confusion = metrics.confusion_matrix(y_train_pred_final.Survived, y_train_pred_final.predicted )\n",
    "print(confusion)"
   ]
  },
  {
   "cell_type": "code",
   "execution_count": 108,
   "metadata": {},
   "outputs": [
    {
     "name": "stdout",
     "output_type": "stream",
     "text": [
      "Accuracy of model: 0.81\n"
     ]
    }
   ],
   "source": [
    "print(\"Accuracy of model:\", round(metrics.accuracy_score(y_train_pred_final.Survived, y_train_pred_final.predicted),2))"
   ]
  },
  {
   "cell_type": "code",
   "execution_count": 109,
   "metadata": {},
   "outputs": [
    {
     "data": {
      "text/html": [
       "<div>\n",
       "<style scoped>\n",
       "    .dataframe tbody tr th:only-of-type {\n",
       "        vertical-align: middle;\n",
       "    }\n",
       "\n",
       "    .dataframe tbody tr th {\n",
       "        vertical-align: top;\n",
       "    }\n",
       "\n",
       "    .dataframe thead th {\n",
       "        text-align: right;\n",
       "    }\n",
       "</style>\n",
       "<table border=\"1\" class=\"dataframe\">\n",
       "  <thead>\n",
       "    <tr style=\"text-align: right;\">\n",
       "      <th></th>\n",
       "      <th>Survived</th>\n",
       "      <th>Survived_Prob</th>\n",
       "      <th>PassengerId</th>\n",
       "      <th>predicted</th>\n",
       "      <th>0.0</th>\n",
       "      <th>0.1</th>\n",
       "      <th>0.2</th>\n",
       "      <th>0.3</th>\n",
       "      <th>0.4</th>\n",
       "      <th>0.5</th>\n",
       "      <th>0.6</th>\n",
       "      <th>0.7</th>\n",
       "      <th>0.8</th>\n",
       "      <th>0.9</th>\n",
       "    </tr>\n",
       "  </thead>\n",
       "  <tbody>\n",
       "    <tr>\n",
       "      <th>0</th>\n",
       "      <td>0.0</td>\n",
       "      <td>0.106162</td>\n",
       "      <td>1</td>\n",
       "      <td>0</td>\n",
       "      <td>1</td>\n",
       "      <td>1</td>\n",
       "      <td>0</td>\n",
       "      <td>0</td>\n",
       "      <td>0</td>\n",
       "      <td>0</td>\n",
       "      <td>0</td>\n",
       "      <td>0</td>\n",
       "      <td>0</td>\n",
       "      <td>0</td>\n",
       "    </tr>\n",
       "    <tr>\n",
       "      <th>1</th>\n",
       "      <td>1.0</td>\n",
       "      <td>0.962428</td>\n",
       "      <td>2</td>\n",
       "      <td>1</td>\n",
       "      <td>1</td>\n",
       "      <td>1</td>\n",
       "      <td>1</td>\n",
       "      <td>1</td>\n",
       "      <td>1</td>\n",
       "      <td>1</td>\n",
       "      <td>1</td>\n",
       "      <td>1</td>\n",
       "      <td>1</td>\n",
       "      <td>1</td>\n",
       "    </tr>\n",
       "    <tr>\n",
       "      <th>2</th>\n",
       "      <td>1.0</td>\n",
       "      <td>0.559179</td>\n",
       "      <td>3</td>\n",
       "      <td>1</td>\n",
       "      <td>1</td>\n",
       "      <td>1</td>\n",
       "      <td>1</td>\n",
       "      <td>1</td>\n",
       "      <td>1</td>\n",
       "      <td>1</td>\n",
       "      <td>0</td>\n",
       "      <td>0</td>\n",
       "      <td>0</td>\n",
       "      <td>0</td>\n",
       "    </tr>\n",
       "    <tr>\n",
       "      <th>3</th>\n",
       "      <td>1.0</td>\n",
       "      <td>0.960572</td>\n",
       "      <td>4</td>\n",
       "      <td>1</td>\n",
       "      <td>1</td>\n",
       "      <td>1</td>\n",
       "      <td>1</td>\n",
       "      <td>1</td>\n",
       "      <td>1</td>\n",
       "      <td>1</td>\n",
       "      <td>1</td>\n",
       "      <td>1</td>\n",
       "      <td>1</td>\n",
       "      <td>1</td>\n",
       "    </tr>\n",
       "    <tr>\n",
       "      <th>4</th>\n",
       "      <td>0.0</td>\n",
       "      <td>0.073952</td>\n",
       "      <td>5</td>\n",
       "      <td>0</td>\n",
       "      <td>1</td>\n",
       "      <td>0</td>\n",
       "      <td>0</td>\n",
       "      <td>0</td>\n",
       "      <td>0</td>\n",
       "      <td>0</td>\n",
       "      <td>0</td>\n",
       "      <td>0</td>\n",
       "      <td>0</td>\n",
       "      <td>0</td>\n",
       "    </tr>\n",
       "  </tbody>\n",
       "</table>\n",
       "</div>"
      ],
      "text/plain": [
       "   Survived  Survived_Prob  PassengerId  predicted  0.0  0.1  0.2  0.3  0.4  \\\n",
       "0       0.0       0.106162            1          0    1    1    0    0    0   \n",
       "1       1.0       0.962428            2          1    1    1    1    1    1   \n",
       "2       1.0       0.559179            3          1    1    1    1    1    1   \n",
       "3       1.0       0.960572            4          1    1    1    1    1    1   \n",
       "4       0.0       0.073952            5          0    1    0    0    0    0   \n",
       "\n",
       "   0.5  0.6  0.7  0.8  0.9  \n",
       "0    0    0    0    0    0  \n",
       "1    1    1    1    1    1  \n",
       "2    1    0    0    0    0  \n",
       "3    1    1    1    1    1  \n",
       "4    0    0    0    0    0  "
      ]
     },
     "execution_count": 109,
     "metadata": {},
     "output_type": "execute_result"
    }
   ],
   "source": [
    "# Let's create columns with different probability cutoffs \n",
    "numbers = [float(x)/10 for x in range(10)]\n",
    "for i in numbers:\n",
    "    y_train_pred_final[i]= y_train_pred_final.Survived_Prob.map(lambda x: 1 if x > i else 0)\n",
    "y_train_pred_final.head()"
   ]
  },
  {
   "cell_type": "code",
   "execution_count": 110,
   "metadata": {},
   "outputs": [
    {
     "name": "stdout",
     "output_type": "stream",
     "text": [
      "     prob  accuracy\n",
      "0.0   0.0  0.383838\n",
      "0.1   0.1  0.569024\n",
      "0.2   0.2  0.751964\n",
      "0.3   0.3  0.804714\n",
      "0.4   0.4  0.806958\n",
      "0.5   0.5  0.805836\n",
      "0.6   0.6  0.820426\n",
      "0.7   0.7  0.801347\n",
      "0.8   0.8  0.760943\n",
      "0.9   0.9  0.702581\n"
     ]
    }
   ],
   "source": [
    "# Now let's calculate accuracy sensitivity and specificity for various probability cutoffs.\n",
    "cutoff_df = pd.DataFrame( columns = ['prob','accuracy'])\n",
    "from sklearn.metrics import confusion_matrix\n",
    "num = [0.0,0.1,0.2,0.3,0.4,0.5,0.6,0.7,0.8,0.9]\n",
    "for i in num:\n",
    "    cm1 = metrics.confusion_matrix(y_train_pred_final.Survived, y_train_pred_final[i] )\n",
    "    total1=sum(sum(cm1))\n",
    "    accuracy = (cm1[0,0]+cm1[1,1])/total1\n",
    "    cutoff_df.loc[i] =[ i ,accuracy]\n",
    "print(cutoff_df)"
   ]
  },
  {
   "cell_type": "code",
   "execution_count": 111,
   "metadata": {},
   "outputs": [
    {
     "data": {
      "text/plain": [
       "80.58"
      ]
     },
     "execution_count": 111,
     "metadata": {},
     "output_type": "execute_result"
    }
   ],
   "source": [
    "# Check the accuracy of model\n",
    "y_train_pred_final['final_predicted'] = y_train_pred_final.Survived_Prob.map( lambda x: 1 if x > 0.5 else 0)\n",
    "round(metrics.accuracy_score(y_train_pred_final.Survived, y_train_pred_final.final_predicted)*100,2)"
   ]
  },
  {
   "cell_type": "code",
   "execution_count": 112,
   "metadata": {},
   "outputs": [],
   "source": [
    "X_test=TitanicDataTest.drop([\"Survived\"],axis=1)\n",
    "X_test[ColumnListScale] = scaler.transform(X_test[ColumnListScale])"
   ]
  },
  {
   "cell_type": "code",
   "execution_count": 113,
   "metadata": {},
   "outputs": [],
   "source": [
    "X_test=TitanicDataTest[list(TitanicDataTest.columns[(TitanicDataTest.columns != 'Cabin') & \n",
    "                                                         (TitanicDataTest.columns != 'Fare') &\n",
    "                                                        (TitanicDataTest.columns != 'Parch') &\n",
    "                                                      (TitanicDataTest.columns != 'Survived')])]\n",
    "\n",
    "X_test_sm = sm.add_constant(X_test)"
   ]
  },
  {
   "cell_type": "code",
   "execution_count": 114,
   "metadata": {},
   "outputs": [],
   "source": [
    "y_test_pred = res.predict(X_test_sm)\n",
    "\n",
    "y_test_df = pd.DataFrame(y_test_pred)\n",
    "\n",
    "# Putting CustID to index\n",
    "y_test_df['PassengerId'] = y_test_df.index\n",
    "y_test_df.reset_index(drop=True, inplace=True)\n",
    "\n",
    "y_test_df= y_test_df.rename(columns={ 0 : 'Survived_Prob'})\n",
    "\n",
    "y_test_df['Survived'] = y_test_df.Survived_Prob.map(lambda x: 1 if x > 0.5 else 0)\n",
    "y_test_df.drop(['Survived_Prob'],axis=1,inplace=True)"
   ]
  },
  {
   "cell_type": "code",
   "execution_count": 115,
   "metadata": {},
   "outputs": [],
   "source": [
    "y_test_df.to_csv(\"New_Result.csv\",index=False)"
   ]
  },
  {
   "cell_type": "code",
   "execution_count": 116,
   "metadata": {},
   "outputs": [],
   "source": [
    "# Checking accuracy based on different classifier models.\n",
    "from sklearn.model_selection import KFold\n",
    "from sklearn.model_selection import cross_val_score\n",
    "k_fold = KFold(n_splits=10,shuffle=True, random_state=0)"
   ]
  },
  {
   "cell_type": "code",
   "execution_count": 117,
   "metadata": {},
   "outputs": [
    {
     "name": "stdout",
     "output_type": "stream",
     "text": [
      "82.27\n"
     ]
    }
   ],
   "source": [
    "from sklearn.neighbors import KNeighborsClassifier\n",
    "clf = KNeighborsClassifier(n_neighbors = 6)\n",
    "scoring = \"accuracy\"\n",
    "score =cross_val_score(clf,X_train,y_train,cv=k_fold,n_jobs=1, scoring=scoring)\n",
    "print(round(np.mean(score)*100,2))"
   ]
  },
  {
   "cell_type": "code",
   "execution_count": 118,
   "metadata": {},
   "outputs": [
    {
     "name": "stdout",
     "output_type": "stream",
     "text": [
      "81.94\n"
     ]
    }
   ],
   "source": [
    "from sklearn.tree import DecisionTreeClassifier\n",
    "\n",
    "clf = DecisionTreeClassifier()\n",
    "scoring = \"accuracy\"\n",
    "score =cross_val_score(clf,X_train,y_train,cv=k_fold,n_jobs=1, scoring=scoring)\n",
    "print(round(np.mean(score)*100,2))"
   ]
  },
  {
   "cell_type": "code",
   "execution_count": 119,
   "metadata": {},
   "outputs": [
    {
     "name": "stdout",
     "output_type": "stream",
     "text": [
      "81.15\n"
     ]
    }
   ],
   "source": [
    "from sklearn.ensemble import RandomForestClassifier\n",
    "\n",
    "clf = RandomForestClassifier()\n",
    "scoring = \"accuracy\"\n",
    "score =cross_val_score(clf,X_train,y_train,cv=k_fold,n_jobs=1, scoring=scoring)\n",
    "print(round(np.mean(score)*100,2))"
   ]
  },
  {
   "cell_type": "code",
   "execution_count": 120,
   "metadata": {},
   "outputs": [
    {
     "name": "stdout",
     "output_type": "stream",
     "text": [
      "79.68\n"
     ]
    }
   ],
   "source": [
    "from sklearn.naive_bayes import GaussianNB\n",
    "\n",
    "clf = GaussianNB()\n",
    "scoring = \"accuracy\"\n",
    "score =cross_val_score(clf,X_train,y_train,cv=k_fold,n_jobs=1, scoring=scoring)\n",
    "print(round(np.mean(score)*100,2))"
   ]
  },
  {
   "cell_type": "code",
   "execution_count": 121,
   "metadata": {},
   "outputs": [
    {
     "name": "stdout",
     "output_type": "stream",
     "text": [
      "82.6\n"
     ]
    }
   ],
   "source": [
    "from sklearn.svm import SVC\n",
    "\n",
    "clf = SVC()\n",
    "scoring = \"accuracy\"\n",
    "score =cross_val_score(clf,X_train,y_train,cv=k_fold,n_jobs=1, scoring=scoring)\n",
    "print(round(np.mean(score)*100,2))"
   ]
  },
  {
   "cell_type": "code",
   "execution_count": 129,
   "metadata": {},
   "outputs": [
    {
     "data": {
      "text/html": [
       "<div>\n",
       "<style scoped>\n",
       "    .dataframe tbody tr th:only-of-type {\n",
       "        vertical-align: middle;\n",
       "    }\n",
       "\n",
       "    .dataframe tbody tr th {\n",
       "        vertical-align: top;\n",
       "    }\n",
       "\n",
       "    .dataframe thead th {\n",
       "        text-align: right;\n",
       "    }\n",
       "</style>\n",
       "<table border=\"1\" class=\"dataframe\">\n",
       "  <thead>\n",
       "    <tr style=\"text-align: right;\">\n",
       "      <th></th>\n",
       "      <th>PassengerID</th>\n",
       "      <th>Survived</th>\n",
       "    </tr>\n",
       "  </thead>\n",
       "  <tbody>\n",
       "    <tr>\n",
       "      <th>0</th>\n",
       "      <td>892</td>\n",
       "      <td>0</td>\n",
       "    </tr>\n",
       "    <tr>\n",
       "      <th>1</th>\n",
       "      <td>893</td>\n",
       "      <td>0</td>\n",
       "    </tr>\n",
       "    <tr>\n",
       "      <th>2</th>\n",
       "      <td>894</td>\n",
       "      <td>0</td>\n",
       "    </tr>\n",
       "    <tr>\n",
       "      <th>3</th>\n",
       "      <td>895</td>\n",
       "      <td>0</td>\n",
       "    </tr>\n",
       "    <tr>\n",
       "      <th>4</th>\n",
       "      <td>896</td>\n",
       "      <td>1</td>\n",
       "    </tr>\n",
       "  </tbody>\n",
       "</table>\n",
       "</div>"
      ],
      "text/plain": [
       "   PassengerID  Survived\n",
       "0          892         0\n",
       "1          893         0\n",
       "2          894         0\n",
       "3          895         0\n",
       "4          896         1"
      ]
     },
     "execution_count": 129,
     "metadata": {},
     "output_type": "execute_result"
    }
   ],
   "source": [
    "# clf = SVC()\n",
    "# clf.fit(X_train,y_train)\n",
    "# y_test_pred=clf.predict(X_test)\n",
    "# y_test_df = pd.DataFrame({\"PassengerID\": X_test.index, \"Survived\": y_test_pred})\n",
    "# y_test_df['Survived'] = y_test_df['Survived'].astype(int)"
   ]
  },
  {
   "cell_type": "code",
   "execution_count": 131,
   "metadata": {},
   "outputs": [],
   "source": [
    "# y_test_df.to_csv(\"New_Result.csv\",index=False)"
   ]
  }
 ],
 "metadata": {
  "kernelspec": {
   "display_name": "Python 3",
   "language": "python",
   "name": "python3"
  },
  "language_info": {
   "codemirror_mode": {
    "name": "ipython",
    "version": 3
   },
   "file_extension": ".py",
   "mimetype": "text/x-python",
   "name": "python",
   "nbconvert_exporter": "python",
   "pygments_lexer": "ipython3",
   "version": "3.6.5"
  }
 },
 "nbformat": 4,
 "nbformat_minor": 2
}
